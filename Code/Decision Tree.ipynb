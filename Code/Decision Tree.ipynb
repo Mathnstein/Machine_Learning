{
 "cells": [
  {
   "cell_type": "code",
   "execution_count": 149,
   "metadata": {},
   "outputs": [
    {
     "name": "stdout",
     "output_type": "stream",
     "text": [
      "61625363"
     ]
    },
    {
     "data": {
      "text/plain": [
       "1×2 Array{Float64,2}:\n",
       " 1.0  0.8"
      ]
     },
     "execution_count": 149,
     "metadata": {},
     "output_type": "execute_result"
    }
   ],
   "source": [
    "using StatsBase\n",
    "\n",
    "A=[ .4 .1 .2;\n",
    "    .2 .6 .4;\n",
    "    .3 .8 0;\n",
    "    .8 .1 1;\n",
    "    1 .5 1;\n",
    "    0 0 .8;]\n",
    "y=[1;0;1;1;1;0]\n",
    "\n",
    "(n,d) = size(A)  # Get dimensions \n",
    "minerror = sum(y .!= mode(y))  #Find base accuracy\n",
    "minRule = []  # Initialize branch point\n",
    "\n",
    "for j = 1:d  # For Each feature 'j'\n",
    "    p = sortperm(A[:,j])\n",
    "    y = y[p]\n",
    "    A[:,j] = A[p,j]\n",
    "    for i = 1:n    # For each example 'i'\n",
    "        t = A[i,j]   # Set threshold to [i,j]\n",
    "        temp=y[A[:,j] .> t]\n",
    "        if isempty(temp)  #Test if we get the empty vector\n",
    "            y_above=0\n",
    "            print(i,j)\n",
    "        else\n",
    "        y_above = mode(temp)  # Find above mode\n",
    "        end\n",
    "        temp = y[A[:,j] .<= t]\n",
    "        if isempty(temp)  # Test if we get the empty vector\n",
    "            y_below=0\n",
    "            print(i,j)\n",
    "        else\n",
    "        y_below = mode(temp)  # Find below mode\n",
    "        end\n",
    "        yhat = fill(y_above,n)  # Classify each\n",
    "        yhat[A[:,j] .<= t] = y_below\n",
    "        error=sum(yhat .!= mode(yhat))  # Count Hamming distance\n",
    "        if error < minerror    # Store if it has the least error\n",
    "            minerror = error\n",
    "            minRule = [j t]\n",
    "        end\n",
    "    end\n",
    "end\n",
    "minRule"
   ]
  }
 ],
 "metadata": {
  "kernelspec": {
   "display_name": "Julia 0.6.0",
   "language": "julia",
   "name": "julia-0.6"
  },
  "language_info": {
   "file_extension": ".jl",
   "mimetype": "application/julia",
   "name": "julia",
   "version": "0.6.0"
  }
 },
 "nbformat": 4,
 "nbformat_minor": 2
}
