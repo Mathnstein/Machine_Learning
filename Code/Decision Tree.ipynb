{
 "cells": [
  {
   "cell_type": "code",
   "execution_count": 72,
   "metadata": {},
   "outputs": [
    {
     "name": "stdout",
     "output_type": "stream",
     "text": [
      "-2101-2102-2103-2104"
     ]
    },
    {
     "data": {
      "text/plain": [
       "5×3 Array{Any,2}:\n",
       "  \"Feature\"    \"Branch point\"   \"error\"\n",
       " 1.0          0.0314657        3.0     \n",
       " 2.0         -0.210164         2.0     \n",
       " 3.0         -0.877334         3.0     \n",
       " 4.0          0.280732         3.0     "
      ]
     },
     "execution_count": 72,
     "metadata": {},
     "output_type": "execute_result"
    }
   ],
   "source": [
    "# Takes a random matrix and labels and returns the optimal\n",
    "# branch points per feature.\n",
    "# Note: Also tracks the times where there were empty vectors\n",
    "# being tested under mode.\n",
    "\n",
    "using StatsBase\n",
    "\n",
    "(n,d)=(10,4)  # Set dimensions\n",
    "A=randn(n,d)  # Forms random matrix\n",
    "y=rand([0,1],n)  # Forms random labels\n",
    "\n",
    "minRule = zeros(d,3)  # Initialize branch points\n",
    "X = zeros(n,1)  #Vector for sorted column\n",
    "ycopy = y  # Copy of y to hold original\n",
    "\n",
    "for j = 1:d  # For Each feature 'j'\n",
    "    y = ycopy # Resets value of y to original position\n",
    "    minerror = sum(y .!= mode(y))  #Find base accuracy\n",
    "    X = A[:,j]  # Store the column of interest\n",
    "    p = sortperm(X)  #Track the permutations\n",
    "    y = y[p]  # Permute y\n",
    "    X = X[p]  #Permute X\n",
    "    for i = 1:n    # For each example 'i'\n",
    "        t = X[i]   # Set threshold to the ith entry in X\n",
    "        temp=y[X .> t]\n",
    "        if isempty(temp)  #Test if we get the empty vector\n",
    "            y_above=0\n",
    "            print(-2,i,j)  # Print the pair that cause this error with a -2 before\n",
    "        else\n",
    "        y_above = mode(temp)  # Find above mode\n",
    "        end\n",
    "        temp = y[X .<= t]\n",
    "        if isempty(temp)  # Test if we get the empty vector\n",
    "            y_below=0\n",
    "            print(-1,i,j)  # Print the pair that cause this error with a -1 before\n",
    "        else\n",
    "        y_below = mode(temp)  # Find below mode\n",
    "        end\n",
    "        yhat = fill(y_above,n)  # Classify each\n",
    "        yhat[X .<= t] = y_below\n",
    "        error=sum(yhat .!= y)  # Count Hamming distance\n",
    "        if error < minerror    # Store if it has the least error\n",
    "            minerror = error\n",
    "            minRule[j,:] = [j,t,error]\n",
    "        end\n",
    "    end\n",
    "end\n",
    "[\"Feature\" \"Branch point\" \"error\";\n",
    "minRule]"
   ]
  }
 ],
 "metadata": {
  "kernelspec": {
   "display_name": "Julia 0.6.0",
   "language": "julia",
   "name": "julia-0.6"
  },
  "language_info": {
   "file_extension": ".jl",
   "mimetype": "application/julia",
   "name": "julia",
   "version": "0.6.0"
  }
 },
 "nbformat": 4,
 "nbformat_minor": 2
}
